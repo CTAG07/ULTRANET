{
 "cells": [
  {
   "cell_type": "code",
   "execution_count": 1,
   "metadata": {},
   "outputs": [
    {
     "name": "stderr",
     "output_type": "stream",
     "text": [
      "Using cache found in C:\\Users\\user/.cache\\torch\\hub\\intel-isl_MiDaS_master\n",
      "c:\\Users\\user\\anaconda3\\envs\\CONDA_VENV\\Lib\\site-packages\\tqdm\\auto.py:21: TqdmWarning: IProgress not found. Please update jupyter and ipywidgets. See https://ipywidgets.readthedocs.io/en/stable/user_install.html\n",
      "  from .autonotebook import tqdm as notebook_tqdm\n",
      "Using cache found in C:\\Users\\user/.cache\\torch\\hub\\intel-isl_MiDaS_master\n"
     ]
    },
    {
     "name": "stdout",
     "output_type": "stream",
     "text": [
      "sensors.depth_sensor   --->   started depth_sensor thread succesfully (stop from task manager)\n"
     ]
    },
    {
     "name": "stderr",
     "output_type": "stream",
     "text": [
      "Using cache found in C:\\Users\\user/.cache\\torch\\hub\\ultralytics_yolov5_master\n",
      "YOLOv5  2024-4-5 Python-3.12.3 torch-2.3.0 CUDA:0 (NVIDIA GeForce RTX 2060, 6144MiB)\n",
      "\n",
      "Fusing layers... \n",
      "Model summary: 212 layers, 20937795 parameters, 0 gradients, 48.1 GFLOPs\n",
      "Adding AutoShape... \n"
     ]
    },
    {
     "name": "stdout",
     "output_type": "stream",
     "text": [
      "sensors.targeting_sensor   --->   started targeting_sensor thread succesfully (stop from task manager)\n"
     ]
    }
   ],
   "source": [
    "# !WARNING! sensor threads start on imports\n",
    "from sensors import depth_sensor as depth\n",
    "from sensors import targeting_sensor as targeting\n",
    "import ultra_interface as inter\n",
    "import threading\n",
    "import numpy as np\n",
    "import time"
   ]
  },
  {
   "cell_type": "code",
   "execution_count": 2,
   "metadata": {},
   "outputs": [],
   "source": [
    "# behaviour settings:\n",
    "level_horizon_seconds = 5 # default: 5\n",
    "quick_scan_enter_delay = 1 # default: 1\n",
    "remain_in_search_mode_seconds = 4 # default: 4\n",
    "\n",
    "# ULTRAKILL settings:\n",
    "in_game_sensitivity = 100 # default: 100\n",
    "in_game_fov = 140 # default: 140\n",
    "normalized_screen_aspect_ratio = (1, 0.5625) # default: (1, 0.5625) which is 16:9\n",
    "in_game_speed = 50 # default: 50\n",
    "\n",
    "# settings settings:\n",
    "threading_loop_speed_limit_time = 0.0001 # default: 0.0001\n",
    "\n",
    "# backend vars\n",
    "unused_targeting_data_available = False"
   ]
  },
  {
   "cell_type": "code",
   "execution_count": 3,
   "metadata": {},
   "outputs": [],
   "source": [
    "# when fresh data from the targeting script is available, switch the \"semaphore-like\"\n",
    "def recieve_fresh_targeting_update():\n",
    "    global unused_targeting_data_available\n",
    "    unused_targeting_data_available = True"
   ]
  },
  {
   "cell_type": "code",
   "execution_count": 4,
   "metadata": {},
   "outputs": [],
   "source": [
    "# like threadripper you get it?\n",
    "def whiplash_thread_wrapper(press_duration):\n",
    "    mini_thread = threading.Thread(target=inter.whiplash, args=(press_duration,))\n",
    "    mini_thread.start()\n",
    "    mini_thread.join()"
   ]
  },
  {
   "cell_type": "code",
   "execution_count": 5,
   "metadata": {},
   "outputs": [],
   "source": [
    "# function that holds the main loop that manages the ai's behaviour\n",
    "def main_behaviour():\n",
    "    global unused_targeting_data_available\n",
    "    \n",
    "    # thread that swaps shotgun colors in sync for shotgun swaps\n",
    "    shotgun_thread = threading.Thread(target=inter.shotgun_swaps_thread_function, args=(in_game_speed,))\n",
    "    shotgun_thread.start()\n",
    "    \n",
    "    # take initial screenshot (mostly to not have this variable as None)\n",
    "    current_img = inter.get_game_screenshot()\n",
    "    \n",
    "    # internal loop variables init\n",
    "    target_locked_flag = False\n",
    "    loop_start_time = time.time()\n",
    "    last_horizon_level_time = loop_start_time\n",
    "    last_target_detection_time = loop_start_time\n",
    "    \n",
    "    while True:\n",
    "        loop_current_time = time.time()\n",
    "        \n",
    "        # all behaviour entry / exit conditions:\n",
    "        targets_detected = bool(targeting.are_targets_detected)\n",
    "        target_locked = bool(targeting.is_target_locked)\n",
    "        quick_scan_active = loop_current_time < last_target_detection_time + remain_in_search_mode_seconds\n",
    "        \n",
    "        # mode 1: targets detected! that means were in combat mode\n",
    "        if targets_detected:\n",
    "            depth.depth_sensor_refreshing = False\n",
    "        \n",
    "            last_target_detection_time = loop_current_time\n",
    "            \n",
    "            # area taken on screen by the biggest target (normalized)\n",
    "            biggest_target_area = max(targeting.all_target_sizes_list)\n",
    "            \n",
    "            # use to rotate, then mark the current data as used\n",
    "            if unused_targeting_data_available:\n",
    "                inter.rotate_to_point(float(targeting.chosen_target_norm_position[0]),\n",
    "                                      float(targeting.chosen_target_norm_position[1]) * -1,\n",
    "                                      in_game_fov,\n",
    "                                      in_game_sensitivity,\n",
    "                                      normalized_screen_aspect_ratio,\n",
    "                                      in_game_speed)\n",
    "                \n",
    "                unused_targeting_data_available = False\n",
    "            \n",
    "            # start shotgun swapping\n",
    "            inter.shoot_main_hold()\n",
    "            \n",
    "            # whiplash if closest enemy is really far\n",
    "            if biggest_target_area < 0.001:\n",
    "                whiplash_thread_wrapper(0.3)\n",
    "            \n",
    "            # drunk wabble right and left, while keeping a certain distance with the enemy\n",
    "            inter.apply_movement(inter.get_zigzag_direction(2, 100, in_game_speed),\n",
    "                                 (not biggest_target_area > 0.03) * 2 - 1)\n",
    "            \n",
    "            # dodge potential attack if enemy is too close (backwards bcs command above)\n",
    "            if biggest_target_area > 0.05:\n",
    "                inter.dash(0.01)\n",
    "            \n",
    "            time.sleep(threading_loop_speed_limit_time)\n",
    "           \n",
    "        # mode 2: no targets are no longer visible, zigzag v1's head to find enemies that might be outside the field of view for 8 seconds\n",
    "        if quick_scan_active and not targets_detected and loop_current_time > last_target_detection_time + quick_scan_enter_delay:\n",
    "            # scanning mode 1: refind target - we rotate in teh direction that the target used to be while zigzagging\n",
    "            inter.shoot_main_release()\n",
    "            inter.apply_rotation(max(1, min(-1, float(targeting.chosen_target_norm_position[0]) * 5)),\n",
    "                                 inter.get_zigzag_direction(1, in_game_sensitivity, in_game_speed))\n",
    "            \n",
    "            time.sleep(threading_loop_speed_limit_time)\n",
    "        \n",
    "        # mode 3: we didnt find any enemies even after 8 seconds of doing the zigzagging, navigate the environment.\n",
    "        while not loop_current_time < last_target_detection_time + remain_in_search_mode_seconds and not targeting.are_targets_detected:\n",
    "            depth.depth_sensor_refreshing = True\n",
    "            \n",
    "            # get the two images to be compared\n",
    "            previous_img = current_img\n",
    "            current_img = inter.get_game_screenshot()\n",
    "            \n",
    "            previous_nparray = np.array(previous_img)\n",
    "            current_nparray = np.array(current_img)\n",
    "            \n",
    "            # calculate how different the images are (normalized difference)\n",
    "            difference = np.sum(np.abs(previous_img - current_nparray)) / 255 / np.prod(previous_nparray.shape)\n",
    "            \n",
    "            # check if stuck in corner (probably)\n",
    "            if difference < 0.1:\n",
    "                inter.apply_rotation(inter.get_zigzag_direction(20, in_game_sensitivity, in_game_speed), 0)\n",
    "                inter.apply_movement(0, -1)\n",
    "                time.sleep(0.1)\n",
    "            else:\n",
    "                # else use normal movement\n",
    "                inter.apply_movement(bool(depth.wall_left) - bool(depth.wall_right), 1)\n",
    "                depth_steering_direction = bool(depth.wall_left) - bool(depth.wall_right)\n",
    "                inter.apply_rotation(depth_steering_direction * 0.5, 0)\n",
    "            \n",
    "            # level horizon to not get stuck looking up or down\n",
    "            if loop_current_time > last_horizon_level_time + level_horizon_seconds:\n",
    "                last_horizon_level_time = loop_current_time\n",
    "                inter.level_horizon(in_game_sensitivity, in_game_speed)\n",
    "            \n",
    "            time.sleep(threading_loop_speed_limit_time)\n",
    "        \n",
    "        # safety precaution for threading\n",
    "        time.sleep(threading_loop_speed_limit_time)"
   ]
  },
  {
   "cell_type": "code",
   "execution_count": 6,
   "metadata": {},
   "outputs": [],
   "source": [
    "targeting.refresh_update = recieve_fresh_targeting_update"
   ]
  },
  {
   "cell_type": "code",
   "execution_count": 7,
   "metadata": {},
   "outputs": [],
   "source": [
    "targeting.targeting_sensor_refreshing = True\n",
    "depth.depth_sensor_refreshing = False"
   ]
  },
  {
   "cell_type": "code",
   "execution_count": 8,
   "metadata": {},
   "outputs": [],
   "source": [
    "behaviour_thread = threading.Thread(target=main_behaviour)\n",
    "behaviour_thread.start()"
   ]
  },
  {
   "cell_type": "code",
   "execution_count": null,
   "metadata": {},
   "outputs": [],
   "source": []
  }
 ],
 "metadata": {
  "kernelspec": {
   "display_name": "MAIN_CONDA_VENV",
   "language": "python",
   "name": "python3"
  },
  "language_info": {
   "codemirror_mode": {
    "name": "ipython",
    "version": 3
   },
   "file_extension": ".py",
   "mimetype": "text/x-python",
   "name": "python",
   "nbconvert_exporter": "python",
   "pygments_lexer": "ipython3",
   "version": "3.12.3"
  }
 },
 "nbformat": 4,
 "nbformat_minor": 2
}
